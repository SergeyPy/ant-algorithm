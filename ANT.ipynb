{
 "cells": [
  {
   "cell_type": "code",
   "execution_count": 18,
   "metadata": {
    "ExecuteTime": {
     "end_time": "2019-09-29T18:00:51.674902Z",
     "start_time": "2019-09-29T18:00:51.654554Z"
    }
   },
   "outputs": [],
   "source": [
    "import numpy as np\n",
    "from numpy import inf\n",
    "import sys\n",
    "np.seterr(all='ignore')\n",
    "def alg_ant(d, iterr, n_ants, n_citys, e, alpha,beta,start,p):\n",
    "    #calculating the visibility of the next city visibility(i,j)=1/d(i,j)\n",
    "        m = n_ants\n",
    "        n = n_citys\n",
    "        #d[np.diag_indices_from(d)] = 0.\n",
    "        visibility = 1/d\n",
    "        visibility[visibility == inf ] = 0\n",
    "        \n",
    "        #intializing pheromne present at the paths to the cities\n",
    "\n",
    "        pheromne = p*np.ones((m,n))\n",
    "\n",
    "        #intializing the rute of the ants with size rute(n_ants,n_citys+1) \n",
    "        #note adding 1 because we want to come back to the source city\n",
    "\n",
    "        rute = np.ones((m,n+1))\n",
    "        for ite in range(iterr):\n",
    "            \n",
    "            if d.shape[0]==5:\n",
    "                rute[:,0] = 4          #initial starting and ending positon of every ants '1' i.e city '1'\n",
    "            else:\n",
    "                rute[:,0] = start\n",
    "            for i in range(m):\n",
    "            \n",
    "                temp_visibility = np.array(visibility)         #creating a copy of visibility\n",
    "            \n",
    "                for j in range(n-1):\n",
    "                    #print(rute)\n",
    "                \n",
    "                    combine_feature = np.zeros(d.shape[0])     #intializing combine_feature array to zero\n",
    "                    cum_prob = np.zeros(d.shape[0])            #intializing cummulative probability array to zeros\n",
    "                \n",
    "                    cur_loc = int(rute[i,j]-1)        #current city of the ant\n",
    "                \n",
    "                    temp_visibility[:,cur_loc] = 0     #making visibility of the current city as zero\n",
    "                \n",
    "                    p_feature = np.power(pheromne[cur_loc,:],beta)         #calculating pheromne feature \n",
    "                    v_feature = np.power(temp_visibility[cur_loc,:],alpha)  #calculating visibility feature\n",
    "                \n",
    "                    p_feature = p_feature[:,np.newaxis]                     #adding axis to make a size[5,1]\n",
    "                    v_feature = v_feature[:,np.newaxis]                     #adding axis to make a size[5,1]\n",
    "                \n",
    "                    combine_feature = np.multiply(p_feature,v_feature)     #calculating the combine feature\n",
    "                            \n",
    "                    total = np.sum(combine_feature)                        #sum of all the feature\n",
    "                \n",
    "                    probs = combine_feature/total   #finding probability of element probs(i) = comine_feature(i)/total\n",
    "                \n",
    "                    cum_prob = np.cumsum(probs)     #calculating cummulative sum\n",
    "                    #print(cum_prob)\n",
    "                    r = np.random.random_sample()   #randon no in [0,1)\n",
    "                    #print(r)\n",
    "                    city = np.nonzero(cum_prob>r)[0][0]+1       #finding the next city having probability higher then random(r) \n",
    "                    #print(city)\n",
    "                \n",
    "                    rute[i,j+1] = city              #adding city to route \n",
    "               \n",
    "                left = list(set([i for i in range(1,n+1)])-set(rute[i,:-2]))[0]     #finding the last untraversed city to route\n",
    "            \n",
    "                rute[i,-2] = left                   #adding untraversed city to route\n",
    "           \n",
    "            rute_opt = np.array(rute)               #intializing optimal route\n",
    "        \n",
    "            dist_cost = np.zeros((m,1))             #intializing total_distance_of_tour with zero \n",
    "        \n",
    "            for i in range(m):\n",
    "            \n",
    "                s = 0\n",
    "                for j in range(n-1):\n",
    "                \n",
    "                    s = s + d[int(rute_opt[i,j])-1,int(rute_opt[i,j+1])-1]   #calcualting total tour distance\n",
    "            \n",
    "                dist_cost[i]=s                      #storing distance of tour for 'i'th ant at location 'i' \n",
    "           \n",
    "            dist_min_loc = np.argmin(dist_cost)             #finding location of minimum of dist_cost\n",
    "            dist_min_cost = dist_cost[dist_min_loc]         #finging min of dist_cost\n",
    "        \n",
    "            best_route = rute[dist_min_loc,:]               #intializing current traversed as best route\n",
    "            pheromne = (1-e)*pheromne                       #evaporation of pheromne with (1-e)\n",
    "        \n",
    "            for i in range(m):\n",
    "                for j in range(n-1):\n",
    "                    dt = 1/dist_cost[i]\n",
    "                    pheromne[int(rute_opt[i,j])-1,int(rute_opt[i,j+1])-1] = pheromne[int(rute_opt[i,j])-1,int(rute_opt[i,j+1])-1] + dt   \n",
    "                #updating the pheromne with delta_distance\n",
    "                #delta_distance will be more with min_dist i.e adding more weight to that route  peromne\n",
    "    \n",
    "\n",
    "        \n",
    "        best = int(dist_min_cost[0]) + d[int(best_route[-2])-1,0]\n",
    "        print(best)"
   ]
  },
  {
   "cell_type": "code",
   "execution_count": 19,
   "metadata": {
    "ExecuteTime": {
     "end_time": "2019-09-29T18:00:53.890759Z",
     "start_time": "2019-09-29T18:00:52.868670Z"
    }
   },
   "outputs": [
    {
     "name": "stdout",
     "output_type": "stream",
     "text": [
      "426\n"
     ]
    }
   ],
   "source": [
    "np.random.seed(7)\n",
    "d=np.random.randint(1, 50, size=(20, 20)) \n",
    "\n",
    "iteration = 100\n",
    "n_ants = 20\n",
    "n_citys = d.shape[0]\n",
    "e = 0.39\n",
    "alpha =0.20\n",
    "beta = 1\n",
    "start=15#15\n",
    "p=0.9#0.9\n",
    "\n",
    "alg_ant(d, iteration, n_ants, n_citys, e, alpha,beta,start,p)\n"
   ]
  },
  {
   "cell_type": "code",
   "execution_count": null,
   "metadata": {},
   "outputs": [],
   "source": []
  }
 ],
 "metadata": {
  "kernelspec": {
   "display_name": "Python 3",
   "language": "python",
   "name": "python3"
  },
  "language_info": {
   "codemirror_mode": {
    "name": "ipython",
    "version": 3
   },
   "file_extension": ".py",
   "mimetype": "text/x-python",
   "name": "python",
   "nbconvert_exporter": "python",
   "pygments_lexer": "ipython3",
   "version": "3.7.3"
  },
  "varInspector": {
   "cols": {
    "lenName": 16,
    "lenType": 16,
    "lenVar": 40
   },
   "kernels_config": {
    "python": {
     "delete_cmd_postfix": "",
     "delete_cmd_prefix": "del ",
     "library": "var_list.py",
     "varRefreshCmd": "print(var_dic_list())"
    },
    "r": {
     "delete_cmd_postfix": ") ",
     "delete_cmd_prefix": "rm(",
     "library": "var_list.r",
     "varRefreshCmd": "cat(var_dic_list()) "
    }
   },
   "types_to_exclude": [
    "module",
    "function",
    "builtin_function_or_method",
    "instance",
    "_Feature"
   ],
   "window_display": false
  }
 },
 "nbformat": 4,
 "nbformat_minor": 2
}
