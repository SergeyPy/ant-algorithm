{
 "cells": [
  {
   "cell_type": "code",
   "execution_count": 1,
   "metadata": {
    "ExecuteTime": {
     "end_time": "2019-09-29T18:46:25.385292Z",
     "start_time": "2019-09-29T18:46:25.367930Z"
    }
   },
   "outputs": [],
   "source": [
    "import numpy as np\n",
    "from numpy import inf\n",
    "import sys\n",
    "np.seterr(all='ignore')\n",
    "def alg_ant(d, iterr, n_ants, n_citys, e, alpha,beta,start,p):\n",
    "    \n",
    "        m = n_ants\n",
    "        n = n_citys\n",
    "        visibility = 1/d #вычисление видимости следующего города\n",
    "        visibility[visibility == inf ] = 0\n",
    "        \n",
    "        pheromne = p*np.ones((m,n)) #инициализация феромона, на путях к городам\n",
    "        rute = np.ones((m,n+1)) #инициализация маршрута муравьев\n",
    "        \n",
    "        for ite in range(iterr):\n",
    "            if d.shape[0]==5:\n",
    "                rute[:,0] = 4          #Начальное и конечное положение каждого муравья\n",
    "            else:\n",
    "                rute[:,0] = start      #Начальное и конечное положение каждого муравья\n",
    "                \n",
    "            for i in range(m):\n",
    "                temp_visibility = np.array(visibility)        \n",
    "                for j in range(n-1):\n",
    "                    combine_feature = np.zeros(d.shape[0])    \n",
    "                    cum_prob = np.zeros(d.shape[0])           \n",
    "                \n",
    "                    cur_loc = int(rute[i,j]-1)        #текущий город муравья\n",
    "                    temp_visibility[:,cur_loc] = 0     #видимость текущего города\n",
    "                \n",
    "                    p_feature = np.power(pheromne[cur_loc,:],beta)         #вычесление феромона\n",
    "                    v_feature = np.power(temp_visibility[cur_loc,:],alpha)  \n",
    "                \n",
    "                    p_feature = p_feature[:,np.newaxis]                     \n",
    "                    v_feature = v_feature[:,np.newaxis]                    \n",
    "                \n",
    "                    combine_feature = np.multiply(p_feature,v_feature)     \n",
    "                    total = np.sum(combine_feature)                        #сумма признаков\n",
    "                    probs = combine_feature/total   \n",
    "                    cum_prob = np.cumsum(probs)     \n",
    "\n",
    "                    r = np.random.random_sample()   \n",
    "                    city = np.nonzero(cum_prob>r)[0][0]+1       #Найти город с вероятность выше случанйной r\n",
    "\n",
    "                \n",
    "                    rute[i,j+1] = city              #добавим город в маршрут\n",
    "               \n",
    "                left = list(set([i for i in range(1,n+1)])-set(rute[i,:-2]))[0]     #найти последний нетронутый город на маршруте\n",
    "                rute[i,-2] = left                   #добавить его в маршрут\n",
    "           \n",
    "            rute_opt = np.array(rute)           \n",
    "            dist_cost = np.zeros((m,1))            \n",
    "        \n",
    "            for i in range(m):\n",
    "                s = 0\n",
    "                for j in range(n-1):\n",
    "                    s = s + d[int(rute_opt[i,j])-1,int(rute_opt[i,j+1])-1]   #вычесление дистанции\n",
    "                dist_cost[i]=s                      #запишим дистанцию для i-го муравья\n",
    "           \n",
    "            dist_min_loc = np.argmin(dist_cost)             \n",
    "            dist_min_cost = dist_cost[dist_min_loc]         \n",
    "        \n",
    "            best_route = rute[dist_min_loc,:]               \n",
    "            pheromne = (1-e)*pheromne                       #испарение феромона\n",
    "        \n",
    "            for i in range(m):\n",
    "                for j in range(n-1):\n",
    "                    dt = 1/dist_cost[i]\n",
    "                    pheromne[int(rute_opt[i,j])-1,int(rute_opt[i,j+1])-1] = pheromne[int(rute_opt[i,j])-1,int(rute_opt[i,j+1])-1] + dt   \n",
    "                #Обновим феромоны\n",
    "        \n",
    "        best = int(dist_min_cost[0]) + d[int(best_route[-2])-1,0]\n",
    "        print(best)"
   ]
  },
  {
   "cell_type": "code",
   "execution_count": 3,
   "metadata": {
    "ExecuteTime": {
     "end_time": "2019-09-29T18:48:06.013987Z",
     "start_time": "2019-09-29T18:48:04.981248Z"
    }
   },
   "outputs": [
    {
     "name": "stdout",
     "output_type": "stream",
     "text": [
      "81\n"
     ]
    }
   ],
   "source": [
    "np.random.seed(7)\n",
    "d=np.random.randint(1, 50, size=(20, 20)) \n",
    "\n",
    "iteration = 100 # количество иттераций\n",
    "n_ants = 20 # количество мурваьев\n",
    "n_citys = d.shape[0] # количество вершин\n",
    "e = 0.39 # скорость испарения\n",
    "alpha =0.20\n",
    "beta = 1\n",
    "start=15 # сначальная и конечная вершина\n",
    "p=0.9 # феромон\n",
    "\n",
    "alg_ant(d, iteration, n_ants, n_citys, e, alpha,beta,start,p)\n"
   ]
  }
 ],
 "metadata": {
  "kernelspec": {
   "display_name": "Python 3",
   "language": "python",
   "name": "python3"
  },
  "language_info": {
   "codemirror_mode": {
    "name": "ipython",
    "version": 3
   },
   "file_extension": ".py",
   "mimetype": "text/x-python",
   "name": "python",
   "nbconvert_exporter": "python",
   "pygments_lexer": "ipython3",
   "version": "3.7.3"
  },
  "varInspector": {
   "cols": {
    "lenName": 16,
    "lenType": 16,
    "lenVar": 40
   },
   "kernels_config": {
    "python": {
     "delete_cmd_postfix": "",
     "delete_cmd_prefix": "del ",
     "library": "var_list.py",
     "varRefreshCmd": "print(var_dic_list())"
    },
    "r": {
     "delete_cmd_postfix": ") ",
     "delete_cmd_prefix": "rm(",
     "library": "var_list.r",
     "varRefreshCmd": "cat(var_dic_list()) "
    }
   },
   "types_to_exclude": [
    "module",
    "function",
    "builtin_function_or_method",
    "instance",
    "_Feature"
   ],
   "window_display": false
  }
 },
 "nbformat": 4,
 "nbformat_minor": 2
}
